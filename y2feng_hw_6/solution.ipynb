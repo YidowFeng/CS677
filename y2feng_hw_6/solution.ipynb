{
 "cells": [
  {
   "cell_type": "raw",
   "source": [
    "Yiduo Feng\n",
    "Class: CS 677\n",
    "Date: 04/15/2022"
   ],
   "metadata": {
    "collapsed": false,
    "pycharm": {
     "name": "#%% raw\n"
    }
   },
   "outputs": []
  },
  {
   "cell_type": "markdown",
   "source": [
    "Question 1: Take the subset of the dataset containing your\n",
    "two class labels. You will use random 50/50 splits for training\n",
    "and testing data."
   ],
   "metadata": {
    "collapsed": false,
    "pycharm": {
     "name": "#%% md\n"
    }
   }
  },
  {
   "cell_type": "markdown",
   "source": [
    "1. implement a linear kernel SVM. What is your accuracy and\n",
    "confusion matrix?"
   ],
   "metadata": {
    "collapsed": false,
    "pycharm": {
     "name": "#%% md\n"
    }
   }
  },
  {
   "cell_type": "code",
   "execution_count": 1,
   "outputs": [
    {
     "name": "stdout",
     "output_type": "stream",
     "text": [
      "0.8857142857142857\n",
      "[[31  3]\n",
      " [ 0 36]]\n"
     ]
    }
   ],
   "source": [
    "from Question1 import *\n",
    "lin_acc()"
   ],
   "metadata": {
    "collapsed": false,
    "pycharm": {
     "name": "#%%\n"
    }
   }
  },
  {
   "cell_type": "markdown",
   "source": [
    "2. implement a Gaussian kernel SVM. What is your accuracy\n",
    "and confusion matrix?"
   ],
   "metadata": {
    "collapsed": false,
    "pycharm": {
     "name": "#%% md\n"
    }
   }
  },
  {
   "cell_type": "code",
   "execution_count": 4,
   "outputs": [
    {
     "name": "stdout",
     "output_type": "stream",
     "text": [
      "0.8857142857142857\n",
      "[[32  2]\n",
      " [ 0 36]]\n"
     ]
    }
   ],
   "source": [
    "Gau_acc()"
   ],
   "metadata": {
    "collapsed": false,
    "pycharm": {
     "name": "#%%\n"
    }
   }
  },
  {
   "cell_type": "markdown",
   "source": [
    "3. implement a polynomial kernel SVM of degree 3. What is\n",
    "your accuracy and confusion matrix?"
   ],
   "metadata": {
    "collapsed": false,
    "pycharm": {
     "name": "#%% md\n"
    }
   }
  },
  {
   "cell_type": "code",
   "execution_count": 3,
   "outputs": [
    {
     "name": "stdout",
     "output_type": "stream",
     "text": [
      "0.8857142857142857\n",
      "[[29  5]\n",
      " [ 3 33]]\n"
     ]
    }
   ],
   "source": [
    "poly_acc()"
   ],
   "metadata": {
    "collapsed": false,
    "pycharm": {
     "name": "#%%\n"
    }
   }
  },
  {
   "cell_type": "markdown",
   "source": [
    "Question 2: Pick up any classifier for supervised learning\n",
    "(e.g. kNN, logistic regression, Naive Bayesian, etc)."
   ],
   "metadata": {
    "collapsed": false,
    "pycharm": {
     "name": "#%% md\n"
    }
   }
  },
  {
   "cell_type": "markdown",
   "source": [
    "1. use this classifier to your dataset. What is your accuracy\n",
    "and confusion matrix?"
   ],
   "metadata": {
    "collapsed": false,
    "pycharm": {
     "name": "#%% md\n"
    }
   }
  },
  {
   "cell_type": "code",
   "execution_count": 5,
   "outputs": [
    {
     "name": "stdout",
     "output_type": "stream",
     "text": [
      "0.9571428571428572\n",
      "[[32  2]\n",
      " [ 1 35]]\n"
     ]
    }
   ],
   "source": [
    "from Question2 import *\n",
    "Log_acc()"
   ],
   "metadata": {
    "collapsed": false,
    "pycharm": {
     "name": "#%%\n"
    }
   }
  },
  {
   "cell_type": "markdown",
   "source": [
    "2. summarize your findings in a table below and discuss your\n",
    "results"
   ],
   "metadata": {
    "collapsed": false,
    "pycharm": {
     "name": "#%% md\n"
    }
   }
  },
  {
   "cell_type": "markdown",
   "source": [
    "Gaussion SVM has the highest accuracy, and the polynomial SVM has the lowest accuracy."
   ],
   "metadata": {
    "collapsed": false,
    "pycharm": {
     "name": "#%% md\n"
    }
   }
  },
  {
   "cell_type": "code",
   "execution_count": 6,
   "outputs": [
    {
     "name": "stdout",
     "output_type": "stream",
     "text": [
      "+---------------------+----+----+----+----+--------------------+--------------------+--------------------+\n",
      "|        Model        | TP | FP | TN | FN |      accuracy      |        TPR         |        TNR         |\n",
      "+---------------------+----+----+----+----+--------------------+--------------------+--------------------+\n",
      "|      linear SVM     | 36 | 3  | 31 | 0  | 0.9571428571428572 |        1.0         | 0.9117647058823529 |\n",
      "|     Gaussian SVM    | 36 | 2  | 32 | 0  | 0.9714285714285714 |        1.0         | 0.9411764705882353 |\n",
      "|    polynomial SVM   | 33 | 5  | 29 | 3  | 0.8857142857142857 | 0.9166666666666666 | 0.8529411764705882 |\n",
      "| Logistic Regression | 35 | 2  | 32 | 1  | 0.9571428571428572 | 0.9722222222222222 | 0.9411764705882353 |\n",
      "+---------------------+----+----+----+----+--------------------+--------------------+--------------------+\n"
     ]
    }
   ],
   "source": [
    "get_table()"
   ],
   "metadata": {
    "collapsed": false,
    "pycharm": {
     "name": "#%%\n"
    }
   }
  },
  {
   "cell_type": "markdown",
   "source": [
    "Question 3: Take the original dataset with all 3 class labels.\n",
    "1. for k = 1, 2, . . . , 8 use k-means clustering with random\n",
    "initialization and defaults. Compute and plot distortion vs\n",
    "k. Use the ”knee” method to find the best k."
   ],
   "metadata": {
    "collapsed": false,
    "pycharm": {
     "name": "#%% md\n"
    }
   }
  },
  {
   "cell_type": "markdown",
   "source": [
    "According to the graph below, the best k is 3."
   ],
   "metadata": {
    "collapsed": false,
    "pycharm": {
     "name": "#%% md\n"
    }
   }
  },
  {
   "cell_type": "code",
   "execution_count": 1,
   "outputs": [
    {
     "data": {
      "text/plain": "<Figure size 504x360 with 1 Axes>",
      "image/png": "[encoded data removed]"
     },
     "metadata": {
      "needs_background": "light"
     },
     "output_type": "display_data"
    }
   ],
   "source": [
    "from Question3 import *\n",
    "get_k_plot()"
   ],
   "metadata": {
    "collapsed": false,
    "pycharm": {
     "name": "#%%\n"
    }
   }
  },
  {
   "cell_type": "markdown",
   "source": [
    "2. re-run your clustering with best k clusters. Pick two features fi and fj at random (using python, of course) and\n",
    "plot your datapoints (different color for each class and centroids) using fi and fj as axis. Examine your plot. Are there any interesting patterns?"
   ],
   "metadata": {
    "collapsed": false,
    "pycharm": {
     "name": "#%% md\n"
    }
   }
  },
  {
   "cell_type": "markdown",
   "source": [
    "Each class around the different centroid, and they separate them into three parts."
   ],
   "metadata": {
    "collapsed": false,
    "pycharm": {
     "name": "#%% md\n"
    }
   }
  },
  {
   "cell_type": "code",
   "execution_count": 5,
   "outputs": [
    {
     "name": "stdout",
     "output_type": "stream",
     "text": [
      "[[18.651       0.88627   ]\n",
      " [12.09622222  0.84958444]\n",
      " [14.72733333  0.87859   ]]\n",
      "f1 f3\n"
     ]
    },
    {
     "data": {
      "text/plain": "<Figure size 432x288 with 1 Axes>",
      "image/png": "[encoded data removed]"
     },
     "metadata": {
      "needs_background": "light"
     },
     "output_type": "display_data"
    }
   ],
   "source": [
    "from Question3_2 import *\n",
    "two_features()\n",
    "datapoint()"
   ],
   "metadata": {
    "collapsed": false,
    "pycharm": {
     "name": "#%%\n"
    }
   }
  },
  {
   "cell_type": "markdown",
   "source": [
    "3. for each cluster, assign a cluster label based on the majority\n",
    "class of items. For example, if cluster Ci contains 45% of\n",
    "class 1 (”Kama” wheat), 35% of class 2 (”Rosa” wheat) and\n",
    "20% of class 3 (”Canadian” wheat), then this cluster Ci\n",
    "is assigned label 1. For each cluster, print out its centroid and\n",
    "assigned label."
   ],
   "metadata": {
    "collapsed": false,
    "pycharm": {
     "name": "#%% md\n"
    }
   }
  },
  {
   "cell_type": "code",
   "execution_count": 6,
   "outputs": [
    {
     "name": "stdout",
     "output_type": "stream",
     "text": [
      "centroid:  [0.8543325 5.3009   ] label:  1\n",
      "centroid:  [0.88404667 6.05053333] label:  2\n",
      "centroid:  [0.87092571 4.9408    ] label:  3\n"
     ]
    }
   ],
   "source": [
    "get_cen_la()"
   ],
   "metadata": {
    "collapsed": false,
    "pycharm": {
     "name": "#%%\n"
    }
   }
  },
  {
   "cell_type": "markdown",
   "source": [
    "4. consider the following multi-label classifier. Take the largest\n",
    "3 clusters with label 1, 2 and 3 respectively. Let us call these\n",
    "clusters A, B and C. For each of these clusters, you know\n",
    "their means (centroids): µ(A), µ(B) and µ(C). We now\n",
    "consider the following procedure (conceptually analogous\n",
    "to nearest neighbor with k = 1): for every point x in your\n",
    "dataset, assign a label based on the label on the nearest\n",
    "(using Euclidean distance) centroid of A, B or C. In other\n",
    "words, if x is closest to center of cluster A, you assign it\n",
    "label 1. If x is closest to center of cluster B, you assign it\n",
    "class 2. Finally, if x is closest to center of cluster C, you\n",
    "assign it class 3. What is the overall accuracy of this new\n",
    "classifier when applied to the complete data set?"
   ],
   "metadata": {
    "collapsed": false,
    "pycharm": {
     "name": "#%% md\n"
    }
   }
  },
  {
   "cell_type": "code",
   "execution_count": 3,
   "outputs": [
    {
     "name": "stdout",
     "output_type": "stream",
     "text": [
      "0.5285714285714286\n"
     ]
    }
   ],
   "source": [
    "overall_acc()"
   ],
   "metadata": {
    "collapsed": false,
    "pycharm": {
     "name": "#%%\n"
    }
   }
  },
  {
   "cell_type": "markdown",
   "source": [
    "5. take this new classifier and consider the same two labels that\n",
    "you used for SVM. What is your accuracy and confusion\n",
    "matrix? How does your new classifier (from task 4) compare\n",
    "with any classifiers listed in the table for question 2 above?"
   ],
   "metadata": {
    "collapsed": false,
    "pycharm": {
     "name": "#%% md\n"
    }
   }
  },
  {
   "cell_type": "markdown",
   "source": [
    "The new classifier has lowest accuracy among the classifiers listed in the table in Question 2."
   ],
   "metadata": {
    "collapsed": false,
    "pycharm": {
     "name": "#%% md\n"
    }
   }
  },
  {
   "cell_type": "code",
   "execution_count": 4,
   "outputs": [
    {
     "name": "stdout",
     "output_type": "stream",
     "text": [
      "0.5285714285714286\n",
      "[[17  1 16]\n",
      " [ 0  0  0]\n",
      " [16  0 20]]\n"
     ]
    }
   ],
   "source": [
    "new_acc()"
   ],
   "metadata": {
    "collapsed": false,
    "pycharm": {
     "name": "#%%\n"
    }
   }
  }
 ],
 "metadata": {
  "kernelspec": {
   "display_name": "Python 3",
   "language": "python",
   "name": "python3"
  },
  "language_info": {
   "codemirror_mode": {
    "name": "ipython",
    "version": 2
   },
   "file_extension": ".py",
   "mimetype": "text/x-python",
   "name": "python",
   "nbconvert_exporter": "python",
   "pygments_lexer": "ipython2",
   "version": "2.7.6"
  }
 },
 "nbformat": 4,
 "nbformat_minor": 0
}